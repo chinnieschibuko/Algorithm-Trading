{
 "cells": [
  {
   "cell_type": "code",
   "execution_count": 1,
   "metadata": {},
   "outputs": [
    {
     "name": "stdout",
     "output_type": "stream",
     "text": [
      "22th fibonacci number is : 17711\n",
      "2th fibonacci number is : 1\n",
      "8th fibonacci number is : 21\n",
      "22th fibonacci number is : 17711\n",
      "1th fibonacci number is : 1\n",
      "19th fibonacci number is : 4181\n",
      "9th fibonacci number is : 34\n",
      "9th fibonacci number is : 34\n",
      "11th fibonacci number is : 89\n",
      "18th fibonacci number is : 2584\n",
      "10th fibonacci number is : 55\n",
      "2th fibonacci number is : 1\n",
      "11th fibonacci number is : 89\n",
      "12th fibonacci number is : 144\n",
      "10th fibonacci number is : 55\n",
      "20th fibonacci number is : 6765\n",
      "7th fibonacci number is : 13\n",
      "2th fibonacci number is : 1\n",
      "3th fibonacci number is : 2\n",
      "23th fibonacci number is : 28657\n",
      "\n",
      "\n",
      "Keyboard exception received. Exiting.\n",
      "13th fibonacci number is : 233\n",
      "2th fibonacci number is : 1\n",
      "12th fibonacci number is : 144\n",
      "10th fibonacci number is : 55\n",
      "12th fibonacci number is : 144\n"
     ]
    }
   ],
   "source": [
    "import time\n",
    "import numpy as np\n",
    "\n",
    "def fibonacci(n):\n",
    "   \"\"\"Recursive function to print nth Fibonacci number\"\"\"\n",
    "   if n <= 1:\n",
    "       return n\n",
    "   else:\n",
    "       return(fibonacci(n-1) + fibonacci(n-2))\n",
    "\n",
    "def main():\n",
    "    num = np.random.randint(1,25)\n",
    "    print(\"%dth fibonacci number is : %d\"%(num,fibonacci(num)))\n",
    "\n",
    "# Continuous execution        \n",
    "starttime=time.time()\n",
    "timeout = time.time() + 60*2  # 60 seconds times 2 meaning the script will run for 2 minutes\n",
    "while time.time() <= timeout:\n",
    "    try:\n",
    "        main()\n",
    "        time.sleep(5 - ((time.time() - starttime) % 5.0)) # 5 second interval between each new iteration\n",
    "    except KeyboardInterrupt:\n",
    "        print('\\n\\nKeyboard exception received. Exiting.')\n",
    "        exit()\n",
    "        "
   ]
  },
  {
   "cell_type": "code",
   "execution_count": 2,
   "metadata": {
    "scrolled": true
   },
   "outputs": [
    {
     "name": "stdout",
     "output_type": "stream",
     "text": [
      "Collecting fxcmpy\n",
      "  Using cached fxcmpy-1.2.6-py3-none-any.whl (27 kB)\n",
      "Collecting socketIO-client\n",
      "  Using cached socketIO-client-0.7.2.tar.gz (23 kB)\n",
      "Requirement already satisfied: requests[socks] in /Users/chinnieschibuko/opt/anaconda3/lib/python3.8/site-packages (from fxcmpy) (2.24.0)\n",
      "Collecting configparser\n",
      "  Using cached configparser-5.0.1-py3-none-any.whl (22 kB)\n",
      "Requirement already satisfied: pandas in /Users/chinnieschibuko/opt/anaconda3/lib/python3.8/site-packages (from fxcmpy) (1.1.3)\n",
      "Requirement already satisfied: six in /Users/chinnieschibuko/opt/anaconda3/lib/python3.8/site-packages (from socketIO-client->fxcmpy) (1.15.0)\n",
      "Collecting websocket-client\n",
      "  Using cached websocket_client-0.57.0-py2.py3-none-any.whl (200 kB)\n",
      "Requirement already satisfied: chardet<4,>=3.0.2 in /Users/chinnieschibuko/opt/anaconda3/lib/python3.8/site-packages (from requests[socks]->fxcmpy) (3.0.4)\n",
      "Requirement already satisfied: urllib3!=1.25.0,!=1.25.1,<1.26,>=1.21.1 in /Users/chinnieschibuko/opt/anaconda3/lib/python3.8/site-packages (from requests[socks]->fxcmpy) (1.25.11)\n",
      "Requirement already satisfied: certifi>=2017.4.17 in /Users/chinnieschibuko/opt/anaconda3/lib/python3.8/site-packages (from requests[socks]->fxcmpy) (2020.6.20)\n",
      "Requirement already satisfied: idna<3,>=2.5 in /Users/chinnieschibuko/opt/anaconda3/lib/python3.8/site-packages (from requests[socks]->fxcmpy) (2.10)\n",
      "Requirement already satisfied: PySocks!=1.5.7,>=1.5.6; extra == \"socks\" in /Users/chinnieschibuko/opt/anaconda3/lib/python3.8/site-packages (from requests[socks]->fxcmpy) (1.7.1)\n",
      "Requirement already satisfied: python-dateutil>=2.7.3 in /Users/chinnieschibuko/opt/anaconda3/lib/python3.8/site-packages (from pandas->fxcmpy) (2.8.1)\n",
      "Requirement already satisfied: numpy>=1.15.4 in /Users/chinnieschibuko/opt/anaconda3/lib/python3.8/site-packages (from pandas->fxcmpy) (1.19.2)\n",
      "Requirement already satisfied: pytz>=2017.2 in /Users/chinnieschibuko/opt/anaconda3/lib/python3.8/site-packages (from pandas->fxcmpy) (2020.1)\n",
      "Building wheels for collected packages: socketIO-client\n",
      "  Building wheel for socketIO-client (setup.py) ... \u001b[?25ldone\n",
      "\u001b[?25h  Created wheel for socketIO-client: filename=socketIO_client-0.7.2-py3-none-any.whl size=23706 sha256=0c3597dca896e1d6d5d3151fca5e9c858812a9537a5b35ca2b0d35137e236567\n",
      "  Stored in directory: /Users/chinnieschibuko/Library/Caches/pip/wheels/a6/a0/fd/b293fb272e08e00a179ae0a4e6e58fbe73279d662ec531d559\n",
      "Successfully built socketIO-client\n",
      "Installing collected packages: websocket-client, socketIO-client, configparser, fxcmpy\n",
      "Successfully installed configparser-5.0.1 fxcmpy-1.2.6 socketIO-client-0.7.2 websocket-client-0.57.0\n",
      "Note: you may need to restart the kernel to use updated packages.\n"
     ]
    }
   ],
   "source": [
    "pip install fxcmpy"
   ]
  },
  {
   "cell_type": "code",
   "execution_count": 3,
   "metadata": {},
   "outputs": [
    {
     "name": "stdout",
     "output_type": "stream",
     "text": [
      "Collecting python-socketio==4.4.0\n",
      "  Using cached python_socketio-4.4.0-py2.py3-none-any.whl (50 kB)\n",
      "Collecting python-engineio>=3.9.0\n",
      "  Using cached python_engineio-4.0.0-py2.py3-none-any.whl (50 kB)\n",
      "Requirement already satisfied: six>=1.9.0 in /Users/chinnieschibuko/opt/anaconda3/lib/python3.8/site-packages (from python-socketio==4.4.0) (1.15.0)\n",
      "Installing collected packages: python-engineio, python-socketio\n",
      "Successfully installed python-engineio-4.0.0 python-socketio-4.4.0\n",
      "Note: you may need to restart the kernel to use updated packages.\n"
     ]
    }
   ],
   "source": [
    "pip install python-socketio==4.4.0"
   ]
  },
  {
   "cell_type": "code",
   "execution_count": 5,
   "metadata": {},
   "outputs": [],
   "source": [
    "import fxcmpy\n",
    "import time\n"
   ]
  },
  {
   "cell_type": "code",
   "execution_count": 12,
   "metadata": {},
   "outputs": [
    {
     "name": "stderr",
     "output_type": "stream",
     "text": [
      "|ERROR|2021-02-07 13:27:34,464|Socket returns unknown error.\n"
     ]
    },
    {
     "ename": "ServerError",
     "evalue": "Can not connect to FXCM Server.",
     "output_type": "error",
     "traceback": [
      "\u001b[0;31m---------------------------------------------------------------------------\u001b[0m",
      "\u001b[0;31mServerError\u001b[0m                               Traceback (most recent call last)",
      "\u001b[0;32m<ipython-input-12-40e13e0922ff>\u001b[0m in \u001b[0;36m<module>\u001b[0;34m\u001b[0m\n\u001b[1;32m      1\u001b[0m \u001b[0;31m#initiating API connection and defining trade parameters\u001b[0m\u001b[0;34m\u001b[0m\u001b[0;34m\u001b[0m\u001b[0;34m\u001b[0m\u001b[0m\n\u001b[0;32m----> 2\u001b[0;31m \u001b[0mcon\u001b[0m \u001b[0;34m=\u001b[0m \u001b[0mfxcmpy\u001b[0m\u001b[0;34m.\u001b[0m\u001b[0mfxcmpy\u001b[0m\u001b[0;34m(\u001b[0m\u001b[0maccess_token\u001b[0m \u001b[0;34m=\u001b[0m \u001b[0;34m'6f0f644505ac23e1076a6e73195cae71860fd496'\u001b[0m\u001b[0;34m,\u001b[0m \u001b[0mlog_level\u001b[0m \u001b[0;34m=\u001b[0m \u001b[0;34m'error'\u001b[0m\u001b[0;34m,\u001b[0m \u001b[0mserver\u001b[0m\u001b[0;34m=\u001b[0m\u001b[0;34m'demo'\u001b[0m\u001b[0;34m)\u001b[0m\u001b[0;34m\u001b[0m\u001b[0;34m\u001b[0m\u001b[0m\n\u001b[0m\u001b[1;32m      3\u001b[0m \u001b[0mpair\u001b[0m \u001b[0;34m=\u001b[0m \u001b[0;34m'EUR/USD'\u001b[0m\u001b[0;34m\u001b[0m\u001b[0;34m\u001b[0m\u001b[0m\n",
      "\u001b[0;32m~/opt/anaconda3/lib/python3.7/site-packages/fxcmpy/fxcmpy.py\u001b[0m in \u001b[0;36m__init__\u001b[0;34m(self, access_token, config_file, log_file, log_level, server, proxy_url, proxy_port, proxy_type)\u001b[0m\n\u001b[1;32m    216\u001b[0m             \u001b[0;32mraise\u001b[0m \u001b[0mServerError\u001b[0m\u001b[0;34m(\u001b[0m\u001b[0;34m'Can not find FXCM Server.'\u001b[0m\u001b[0;34m)\u001b[0m\u001b[0;34m\u001b[0m\u001b[0;34m\u001b[0m\u001b[0m\n\u001b[1;32m    217\u001b[0m         \u001b[0;32melif\u001b[0m \u001b[0mself\u001b[0m\u001b[0;34m.\u001b[0m\u001b[0mconnection_status\u001b[0m \u001b[0;34m==\u001b[0m \u001b[0;34m'aborted'\u001b[0m\u001b[0;34m:\u001b[0m\u001b[0;34m\u001b[0m\u001b[0;34m\u001b[0m\u001b[0m\n\u001b[0;32m--> 218\u001b[0;31m             \u001b[0;32mraise\u001b[0m \u001b[0mServerError\u001b[0m\u001b[0;34m(\u001b[0m\u001b[0;34m'Can not connect to FXCM Server.'\u001b[0m\u001b[0;34m)\u001b[0m\u001b[0;34m\u001b[0m\u001b[0;34m\u001b[0m\u001b[0m\n\u001b[0m\u001b[1;32m    219\u001b[0m \u001b[0;34m\u001b[0m\u001b[0m\n\u001b[1;32m    220\u001b[0m         \u001b[0mself\u001b[0m\u001b[0;34m.\u001b[0m\u001b[0m__collect_account_ids__\u001b[0m\u001b[0;34m(\u001b[0m\u001b[0;34m)\u001b[0m\u001b[0;34m\u001b[0m\u001b[0;34m\u001b[0m\u001b[0m\n",
      "\u001b[0;31mServerError\u001b[0m: Can not connect to FXCM Server."
     ]
    }
   ],
   "source": [
    "#initiating API connection and defining trade parameters\n",
    "con = fxcmpy.fxcmpy(access_token = '6f0f644505ac23e1076a6e73195cae71860fd496', log_level = 'error', server='demo')\n",
    "pair = 'EUR/USD'"
   ]
  }
 ],
 "metadata": {
  "kernelspec": {
   "display_name": "Python 3",
   "language": "python",
   "name": "python3"
  },
  "language_info": {
   "codemirror_mode": {
    "name": "ipython",
    "version": 3
   },
   "file_extension": ".py",
   "mimetype": "text/x-python",
   "name": "python",
   "nbconvert_exporter": "python",
   "pygments_lexer": "ipython3",
   "version": "3.8.5"
  }
 },
 "nbformat": 4,
 "nbformat_minor": 2
}
